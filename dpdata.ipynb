{
 "cells": [
  {
   "cell_type": "code",
   "execution_count": 1,
   "metadata": {},
   "outputs": [
    {
     "name": "stdout",
     "output_type": "stream",
     "text": [
      "<class 'dpdata.system.LabeledSystem'>\n",
      "835\n"
     ]
    }
   ],
   "source": [
    "import dpdata\n",
    "\n",
    "data = dpdata.LabeledSystem(file_name=\"./GEN_1/data/Na7\", fmt=\"deepmd/npy\")\n",
    "print(type(data))\n",
    "print(len(data))\n"
   ]
  },
  {
   "cell_type": "code",
   "execution_count": 3,
   "metadata": {},
   "outputs": [
    {
     "ename": "TypeError",
     "evalue": "make_gaussian_input() missing 1 required positional argument: 'keywords'",
     "output_type": "error",
     "traceback": [
      "\u001b[0;31m---------------------------------------------------------------------------\u001b[0m",
      "\u001b[0;31mTypeError\u001b[0m                                 Traceback (most recent call last)",
      "\u001b[1;32m/home/sekinelabo/Documents/DP-GEN_Sodium/dpdata.ipynb セル 2\u001b[0m line \u001b[0;36m1\n\u001b[0;32m----> <a href='vscode-notebook-cell:/home/sekinelabo/Documents/DP-GEN_Sodium/dpdata.ipynb#W1sZmlsZQ%3D%3D?line=0'>1</a>\u001b[0m data\u001b[39m.\u001b[39;49mto_gaussian_gjf(file_name\u001b[39m=\u001b[39;49m\u001b[39mf\u001b[39;49m\u001b[39m\"\u001b[39;49m\u001b[39m./GEN_1/gaussian_sys/\u001b[39;49m\u001b[39m{\u001b[39;49;00mi\u001b[39m}\u001b[39;49;00m\u001b[39m.com\u001b[39;49m\u001b[39m\"\u001b[39;49m)\n",
      "File \u001b[0;32m~/.pyenv/versions/3.11.4/lib/python3.11/site-packages/dpdata/system.py:1654\u001b[0m, in \u001b[0;36madd_format_methods.<locals>.get_func.<locals>.to_format\u001b[0;34m(self, *args, **kwargs)\u001b[0m\n\u001b[1;32m   1653\u001b[0m \u001b[39mdef\u001b[39;00m \u001b[39mto_format\u001b[39m(\u001b[39mself\u001b[39m, \u001b[39m*\u001b[39margs, \u001b[39m*\u001b[39m\u001b[39m*\u001b[39mkwargs):\n\u001b[0;32m-> 1654\u001b[0m     \u001b[39mreturn\u001b[39;00m \u001b[39mself\u001b[39;49m\u001b[39m.\u001b[39;49mto_fmt_obj(ff(), \u001b[39m*\u001b[39;49margs, \u001b[39m*\u001b[39;49m\u001b[39m*\u001b[39;49mkwargs)\n",
      "File \u001b[0;32m~/.pyenv/versions/3.11.4/lib/python3.11/site-packages/dpdata/system.py:1127\u001b[0m, in \u001b[0;36mLabeledSystem.to_fmt_obj\u001b[0;34m(self, fmtobj, *args, **kwargs)\u001b[0m\n\u001b[1;32m   1126\u001b[0m \u001b[39mdef\u001b[39;00m \u001b[39mto_fmt_obj\u001b[39m(\u001b[39mself\u001b[39m, fmtobj, \u001b[39m*\u001b[39margs, \u001b[39m*\u001b[39m\u001b[39m*\u001b[39mkwargs):\n\u001b[0;32m-> 1127\u001b[0m     \u001b[39mreturn\u001b[39;00m fmtobj\u001b[39m.\u001b[39;49mto_labeled_system(\u001b[39mself\u001b[39;49m\u001b[39m.\u001b[39;49mdata, \u001b[39m*\u001b[39;49margs, \u001b[39m*\u001b[39;49m\u001b[39m*\u001b[39;49mkwargs)\n",
      "File \u001b[0;32m~/.pyenv/versions/3.11.4/lib/python3.11/site-packages/dpdata/format.py:238\u001b[0m, in \u001b[0;36mFormat.to_labeled_system\u001b[0;34m(self, data, *args, **kwargs)\u001b[0m\n\u001b[1;32m    224\u001b[0m \u001b[39mdef\u001b[39;00m \u001b[39mto_labeled_system\u001b[39m(\u001b[39mself\u001b[39m, data, \u001b[39m*\u001b[39margs, \u001b[39m*\u001b[39m\u001b[39m*\u001b[39mkwargs):\n\u001b[1;32m    225\u001b[0m \u001b[39m    \u001b[39m\u001b[39m\"\"\"Implement LabeledSystem.to that converts from LabeledSystem to this format.\u001b[39;00m\n\u001b[1;32m    226\u001b[0m \n\u001b[1;32m    227\u001b[0m \u001b[39m    By default, LabeledSystem.to will fallback to System.to.\u001b[39;00m\n\u001b[0;32m   (...)\u001b[0m\n\u001b[1;32m    236\u001b[0m \u001b[39m        keyword arguments that will be passed from the method\u001b[39;00m\n\u001b[1;32m    237\u001b[0m \u001b[39m    \"\"\"\u001b[39;00m\n\u001b[0;32m--> 238\u001b[0m     \u001b[39mreturn\u001b[39;00m \u001b[39mself\u001b[39;49m\u001b[39m.\u001b[39;49mto_system(data, \u001b[39m*\u001b[39;49margs, \u001b[39m*\u001b[39;49m\u001b[39m*\u001b[39;49mkwargs)\n",
      "File \u001b[0;32m~/.pyenv/versions/3.11.4/lib/python3.11/site-packages/dpdata/plugins/gaussian.py:56\u001b[0m, in \u001b[0;36mGaussiaGJFFormat.to_system\u001b[0;34m(self, data, file_name, **kwargs)\u001b[0m\n\u001b[1;32m     44\u001b[0m \u001b[39mdef\u001b[39;00m \u001b[39mto_system\u001b[39m(\u001b[39mself\u001b[39m, data: \u001b[39mdict\u001b[39m, file_name: \u001b[39mstr\u001b[39m, \u001b[39m*\u001b[39m\u001b[39m*\u001b[39mkwargs):\n\u001b[1;32m     45\u001b[0m \u001b[39m    \u001b[39m\u001b[39m\"\"\"Generate Gaussian input file.\u001b[39;00m\n\u001b[1;32m     46\u001b[0m \n\u001b[1;32m     47\u001b[0m \u001b[39m    Parameters\u001b[39;00m\n\u001b[0;32m   (...)\u001b[0m\n\u001b[1;32m     54\u001b[0m \u001b[39m        Other parameters to make input files. See :meth:`dpdata.gaussian.gjf.make_gaussian_input`\u001b[39;00m\n\u001b[1;32m     55\u001b[0m \u001b[39m    \"\"\"\u001b[39;00m\n\u001b[0;32m---> 56\u001b[0m     text \u001b[39m=\u001b[39m dpdata\u001b[39m.\u001b[39;49mgaussian\u001b[39m.\u001b[39;49mgjf\u001b[39m.\u001b[39;49mmake_gaussian_input(data, \u001b[39m*\u001b[39;49m\u001b[39m*\u001b[39;49mkwargs)\n\u001b[1;32m     57\u001b[0m     \u001b[39mwith\u001b[39;00m \u001b[39mopen\u001b[39m(file_name, \u001b[39m\"\u001b[39m\u001b[39mw\u001b[39m\u001b[39m\"\u001b[39m) \u001b[39mas\u001b[39;00m fp:\n\u001b[1;32m     58\u001b[0m         fp\u001b[39m.\u001b[39mwrite(text)\n",
      "\u001b[0;31mTypeError\u001b[0m: make_gaussian_input() missing 1 required positional argument: 'keywords'"
     ]
    }
   ],
   "source": [
    "data.to_gaussian_gjf(file_name=f\"./GEN_1/gaussian_sys/{i}.com\", keywords=\"B3LYP/6-311+g(d) force\")\n"
   ]
  },
  {
   "cell_type": "code",
   "execution_count": null,
   "metadata": {},
   "outputs": [],
   "source": []
  }
 ],
 "metadata": {
  "kernelspec": {
   "display_name": "Python 3",
   "language": "python",
   "name": "python3"
  },
  "language_info": {
   "codemirror_mode": {
    "name": "ipython",
    "version": 3
   },
   "file_extension": ".py",
   "mimetype": "text/x-python",
   "name": "python",
   "nbconvert_exporter": "python",
   "pygments_lexer": "ipython3",
   "version": "3.11.4"
  }
 },
 "nbformat": 4,
 "nbformat_minor": 2
}
